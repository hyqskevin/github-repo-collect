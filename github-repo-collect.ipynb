{
 "cells": [
  {
   "cell_type": "code",
   "execution_count": 8,
   "metadata": {},
   "outputs": [],
   "source": [
    "#!/usr/local/bin/python2.7\n",
    "  # coding:utf-8\n",
    "import datetime\n",
    "import codecs\n",
    "import requests\n",
    "import os\n",
    "import time\n",
    "from pyquery import PyQuery as pq\n",
    "    "
   ]
  },
  {
   "cell_type": "code",
   "execution_count": 9,
   "metadata": {},
   "outputs": [],
   "source": [
    "#git操作 推送到远程repo\n",
    "def git_add_commit_push(date, filename):\n",
    "    cmd_git_add = 'git add .'\n",
    "    cmd_git_commit = 'git commit -m \"{date}\"'.format(date=date)\n",
    "    cmd_git_push = 'git push -u origin master'\n",
    "    os.system(cmd_git_add)\n",
    "    os.system(cmd_git_commit)\n",
    "    os.system(cmd_git_push)\n",
    "def createMarkdown(date, filename):\n",
    "    with open(filename, 'w') as f:\n",
    "        f.write(\"###\" + date + \"\\n\")\n",
    "def scrape(language, filename):\n",
    "    HEADERS = {\n",
    "        'User-Agent'        : 'Mozilla/5.0 (Macintosh; Intel Mac OS X 10.7; rv:11.0) Gecko/20100101 Firefox/11.0',\n",
    "        'Accept'            : 'text/html,application/xhtml+xml,application/xml;q=0.9,image/webp,*/*;q=0.8',\n",
    "        'Accept-Encoding'    : 'gzip,deflate,sdch',\n",
    "        'Accept-Language'    : 'zh-CN,zh;q=0.8'\n",
    "    }\n",
    "    url = 'https://github.com/trending/{language}?since=weekly'.format(language=language)\n",
    "    r = requests.get(url, headers=HEADERS)\n",
    "    assert r.status_code == 200\n",
    "    # print(r.encoding)\n",
    "    d = pq(r.content)\n",
    "    items = d('ol.repo-list li')\n",
    "    # codecs to solve the problem utf-8 codec like chinese\n",
    "    with codecs.open(filename, \"a\", \"utf-8\") as f:\n",
    "        f.write('\\n##{language}\\n'.format(language=language))\n",
    "        for item in items:\n",
    "            i = pq(item)\n",
    "            title = i(\"h3 a\").text()\n",
    "            owner = i(\"span.prefix\").text()\n",
    "            description = i(\"p.col-9\").text()\n",
    "            url = i(\"h3 a\").attr(\"href\")\n",
    "            url = \"https://github.com\" + url\n",
    "            # ownerImg = i(\"p.repo-list-meta a img\").attr(\"src\")\n",
    "            # print(ownerImg)\n",
    "            f.write(u\"* [{title}]({url}):{description}\\n\".format(title=title, url=url, description=description))\n",
    "    \n",
    "    "
   ]
  },
  {
   "cell_type": "code",
   "execution_count": 10,
   "metadata": {},
   "outputs": [],
   "source": [
    "#定时爬取对应语言的并写入到markdown文本中\n",
    "def job():\n",
    "    strdate = datetime.datetime.now().strftime('%Y-%m-%d')\n",
    "    filename = '{date}.md'.format(date=strdate)\n",
    "    # create markdown file\n",
    "    createMarkdown(strdate, filename)\n",
    "    # write markdown\n",
    "    scrape('python', filename)\n",
    "    scrape('Jupyter Notebook', filename)\n",
    "    #scrape('swift', filename)\n",
    "    #scrape('javascript', filename)\n",
    "    #scrape('go', filename)\n",
    "    #scrape('Objective-C', filename)\n",
    "    scrape('Java', filename)\n",
    "    scrape('C++', filename)\n",
    "    scrape('C', filename)\n",
    "    #scrape('C#', filename)\n",
    "    # git add commit push\n",
    "    git_add_commit_push(strdate, filename)"
   ]
  },
  {
   "cell_type": "code",
   "execution_count": 11,
   "metadata": {},
   "outputs": [
    {
     "ename": "KeyboardInterrupt",
     "evalue": "",
     "output_type": "error",
     "traceback": [
      "\u001b[0;31m---------------------------------------------------------------------------\u001b[0m",
      "\u001b[0;31mKeyboardInterrupt\u001b[0m                         Traceback (most recent call last)",
      "\u001b[0;32m<ipython-input-11-beebba65e68d>\u001b[0m in \u001b[0;36m<module>\u001b[0;34m()\u001b[0m\n\u001b[1;32m      3\u001b[0m     \u001b[0;32mwhile\u001b[0m \u001b[0;32mTrue\u001b[0m\u001b[0;34m:\u001b[0m\u001b[0;34m\u001b[0m\u001b[0m\n\u001b[1;32m      4\u001b[0m         \u001b[0mjob\u001b[0m\u001b[0;34m(\u001b[0m\u001b[0;34m)\u001b[0m\u001b[0;34m\u001b[0m\u001b[0m\n\u001b[0;32m----> 5\u001b[0;31m         \u001b[0mtime\u001b[0m\u001b[0;34m.\u001b[0m\u001b[0msleep\u001b[0m\u001b[0;34m(\u001b[0m\u001b[0;36m7\u001b[0m\u001b[0;34m*\u001b[0m \u001b[0;36m24\u001b[0m \u001b[0;34m*\u001b[0m \u001b[0;36m60\u001b[0m \u001b[0;34m*\u001b[0m \u001b[0;36m60\u001b[0m\u001b[0;34m)\u001b[0m\u001b[0;34m\u001b[0m\u001b[0m\n\u001b[0m",
      "\u001b[0;31mKeyboardInterrupt\u001b[0m: "
     ]
    }
   ],
   "source": [
    "#主函数\n",
    "if __name__ == '__main__':\n",
    "    while True:\n",
    "        job()\n",
    "        time.sleep(7* 24 * 60 * 60)"
   ]
  },
  {
   "cell_type": "code",
   "execution_count": null,
   "metadata": {},
   "outputs": [],
   "source": []
  }
 ],
 "metadata": {
  "kernelspec": {
   "display_name": "Python 2",
   "language": "python",
   "name": "python2"
  },
  "language_info": {
   "codemirror_mode": {
    "name": "ipython",
    "version": 3
   },
   "file_extension": ".py",
   "mimetype": "text/x-python",
   "name": "python",
   "nbconvert_exporter": "python",
   "pygments_lexer": "ipython3",
   "version": "3.5.2"
  }
 },
 "nbformat": 4,
 "nbformat_minor": 2
}
